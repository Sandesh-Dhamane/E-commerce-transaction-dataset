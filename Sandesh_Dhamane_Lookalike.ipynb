{
 "cells": [
  {
   "cell_type": "code",
   "execution_count": 1,
   "id": "2c7e4df8-50dc-455c-a189-58929d3a7b9c",
   "metadata": {},
   "outputs": [],
   "source": [
    "import pandas as pd\n",
    "import numpy as np\n",
    "import matplotlib.pyplot as plt\n",
    "import seaborn as sns\n",
    "from sklearn.metrics.pairwise import cosine_similarity\n",
    "from sklearn.preprocessing import StandardScaler\n",
    "from sklearn.cluster import KMeans\n",
    "from sklearn.metrics import davies_bouldin_score"
   ]
  },
  {
   "cell_type": "code",
   "execution_count": 2,
   "id": "79767b35-6108-472d-a23e-da3e75e6af38",
   "metadata": {},
   "outputs": [],
   "source": [
    "customers = pd.read_csv(\"Downloads/Customers.csv\")\n",
    "products = pd.read_csv(\"Downloads/Products.csv\")\n",
    "transactions = pd.read_csv(\"Downloads/Transactions.csv\")"
   ]
  },
  {
   "cell_type": "code",
   "execution_count": 4,
   "id": "93c2e08a-60c5-41e5-b2da-384d46e765c9",
   "metadata": {},
   "outputs": [],
   "source": [
    "data = transactions.merge(customers, on='CustomerID').merge(products, on='ProductID')"
   ]
  },
  {
   "cell_type": "code",
   "execution_count": 5,
   "id": "22414f1a-fa74-45f8-9deb-a45c2316ce28",
   "metadata": {},
   "outputs": [],
   "source": [
    "interaction_matrix = data.pivot_table(index='CustomerID', columns='ProductID', values='TotalValue', fill_value=0)"
   ]
  },
  {
   "cell_type": "code",
   "execution_count": 6,
   "id": "1e31e3bb-80ea-4f73-b442-76cd679d60df",
   "metadata": {},
   "outputs": [],
   "source": [
    "similarity = cosine_similarity(interaction_matrix)\n",
    "similarity_df = pd.DataFrame(similarity, index=interaction_matrix.index, columns=interaction_matrix.index)"
   ]
  },
  {
   "cell_type": "code",
   "execution_count": 7,
   "id": "5b3dafe9-8828-411d-b38e-950c7a302727",
   "metadata": {},
   "outputs": [],
   "source": [
    "lookalike_results = {}\n",
    "for customer_id in similarity_df.index[:20]:\n",
    "    similar_customers = similarity_df[customer_id].sort_values(ascending=False)[1:4]  # Exclude self\n",
    "    lookalike_results[customer_id] = list(similar_customers.items())"
   ]
  },
  {
   "cell_type": "code",
   "execution_count": 17,
   "id": "d67e2496-9f40-44c6-9c83-72769f663383",
   "metadata": {},
   "outputs": [],
   "source": [
    "lookalike_df = pd.DataFrame.from_dict(lookalike_results, orient='index')\n",
    "lookalike_df.to_csv(\"Sandesh_Dhamane_lookalike.csv\")"
   ]
  },
  {
   "cell_type": "code",
   "execution_count": 18,
   "id": "bdb1883a-0892-4e0e-b62f-427ed0b1e1fd",
   "metadata": {},
   "outputs": [],
   "source": [
    "look=pd.read_csv(\"looklike.csv\")"
   ]
  },
  {
   "cell_type": "code",
   "execution_count": 19,
   "id": "a57299b5-d25e-4db9-aca8-bb35cb1fbbfb",
   "metadata": {},
   "outputs": [
    {
     "data": {
      "text/html": [
       "<div>\n",
       "<style scoped>\n",
       "    .dataframe tbody tr th:only-of-type {\n",
       "        vertical-align: middle;\n",
       "    }\n",
       "\n",
       "    .dataframe tbody tr th {\n",
       "        vertical-align: top;\n",
       "    }\n",
       "\n",
       "    .dataframe thead th {\n",
       "        text-align: right;\n",
       "    }\n",
       "</style>\n",
       "<table border=\"1\" class=\"dataframe\">\n",
       "  <thead>\n",
       "    <tr style=\"text-align: right;\">\n",
       "      <th></th>\n",
       "      <th>Unnamed: 0</th>\n",
       "      <th>0</th>\n",
       "      <th>1</th>\n",
       "      <th>2</th>\n",
       "    </tr>\n",
       "  </thead>\n",
       "  <tbody>\n",
       "    <tr>\n",
       "      <th>0</th>\n",
       "      <td>C0001</td>\n",
       "      <td>('C0050', 0.5326650751975152)</td>\n",
       "      <td>('C0100', 0.5286434400087234)</td>\n",
       "      <td>('C0105', 0.5220446140641956)</td>\n",
       "    </tr>\n",
       "    <tr>\n",
       "      <th>1</th>\n",
       "      <td>C0002</td>\n",
       "      <td>('C0109', 0.5734695282308275)</td>\n",
       "      <td>('C0079', 0.5285529219537446)</td>\n",
       "      <td>('C0117', 0.5150891446165621)</td>\n",
       "    </tr>\n",
       "    <tr>\n",
       "      <th>2</th>\n",
       "      <td>C0003</td>\n",
       "      <td>('C0181', 0.6200214220870754)</td>\n",
       "      <td>('C0186', 0.5564687690216371)</td>\n",
       "      <td>('C0067', 0.5507236227461357)</td>\n",
       "    </tr>\n",
       "    <tr>\n",
       "      <th>3</th>\n",
       "      <td>C0004</td>\n",
       "      <td>('C0063', 0.45920773392365705)</td>\n",
       "      <td>('C0070', 0.44279874990787127)</td>\n",
       "      <td>('C0076', 0.38293854526808435)</td>\n",
       "    </tr>\n",
       "    <tr>\n",
       "      <th>4</th>\n",
       "      <td>C0005</td>\n",
       "      <td>('C0096', 0.6683801091411397)</td>\n",
       "      <td>('C0192', 0.6418213940288774)</td>\n",
       "      <td>('C0072', 0.6304891486232183)</td>\n",
       "    </tr>\n",
       "  </tbody>\n",
       "</table>\n",
       "</div>"
      ],
      "text/plain": [
       "  Unnamed: 0                               0                               1  \\\n",
       "0      C0001   ('C0050', 0.5326650751975152)   ('C0100', 0.5286434400087234)   \n",
       "1      C0002   ('C0109', 0.5734695282308275)   ('C0079', 0.5285529219537446)   \n",
       "2      C0003   ('C0181', 0.6200214220870754)   ('C0186', 0.5564687690216371)   \n",
       "3      C0004  ('C0063', 0.45920773392365705)  ('C0070', 0.44279874990787127)   \n",
       "4      C0005   ('C0096', 0.6683801091411397)   ('C0192', 0.6418213940288774)   \n",
       "\n",
       "                                2  \n",
       "0   ('C0105', 0.5220446140641956)  \n",
       "1   ('C0117', 0.5150891446165621)  \n",
       "2   ('C0067', 0.5507236227461357)  \n",
       "3  ('C0076', 0.38293854526808435)  \n",
       "4   ('C0072', 0.6304891486232183)  "
      ]
     },
     "execution_count": 19,
     "metadata": {},
     "output_type": "execute_result"
    }
   ],
   "source": [
    "look.head()"
   ]
  },
  {
   "cell_type": "code",
   "execution_count": 20,
   "id": "0205a770-612f-4010-afa2-d7a34cd5c280",
   "metadata": {},
   "outputs": [
    {
     "data": {
      "text/plain": [
       "(20, 4)"
      ]
     },
     "execution_count": 20,
     "metadata": {},
     "output_type": "execute_result"
    }
   ],
   "source": [
    "look.shape"
   ]
  },
  {
   "cell_type": "code",
   "execution_count": 21,
   "id": "befec7f3-bc6a-4507-abd2-5a4042ede6b8",
   "metadata": {},
   "outputs": [
    {
     "data": {
      "text/html": [
       "<div>\n",
       "<style scoped>\n",
       "    .dataframe tbody tr th:only-of-type {\n",
       "        vertical-align: middle;\n",
       "    }\n",
       "\n",
       "    .dataframe tbody tr th {\n",
       "        vertical-align: top;\n",
       "    }\n",
       "\n",
       "    .dataframe thead th {\n",
       "        text-align: right;\n",
       "    }\n",
       "</style>\n",
       "<table border=\"1\" class=\"dataframe\">\n",
       "  <thead>\n",
       "    <tr style=\"text-align: right;\">\n",
       "      <th></th>\n",
       "      <th>Unnamed: 0</th>\n",
       "      <th>0</th>\n",
       "      <th>1</th>\n",
       "      <th>2</th>\n",
       "    </tr>\n",
       "  </thead>\n",
       "  <tbody>\n",
       "    <tr>\n",
       "      <th>count</th>\n",
       "      <td>20</td>\n",
       "      <td>20</td>\n",
       "      <td>20</td>\n",
       "      <td>20</td>\n",
       "    </tr>\n",
       "    <tr>\n",
       "      <th>unique</th>\n",
       "      <td>20</td>\n",
       "      <td>20</td>\n",
       "      <td>20</td>\n",
       "      <td>20</td>\n",
       "    </tr>\n",
       "    <tr>\n",
       "      <th>top</th>\n",
       "      <td>C0001</td>\n",
       "      <td>('C0050', 0.5326650751975152)</td>\n",
       "      <td>('C0100', 0.5286434400087234)</td>\n",
       "      <td>('C0105', 0.5220446140641956)</td>\n",
       "    </tr>\n",
       "    <tr>\n",
       "      <th>freq</th>\n",
       "      <td>1</td>\n",
       "      <td>1</td>\n",
       "      <td>1</td>\n",
       "      <td>1</td>\n",
       "    </tr>\n",
       "  </tbody>\n",
       "</table>\n",
       "</div>"
      ],
      "text/plain": [
       "       Unnamed: 0                              0  \\\n",
       "count          20                             20   \n",
       "unique         20                             20   \n",
       "top         C0001  ('C0050', 0.5326650751975152)   \n",
       "freq            1                              1   \n",
       "\n",
       "                                    1                              2  \n",
       "count                              20                             20  \n",
       "unique                             20                             20  \n",
       "top     ('C0100', 0.5286434400087234)  ('C0105', 0.5220446140641956)  \n",
       "freq                                1                              1  "
      ]
     },
     "execution_count": 21,
     "metadata": {},
     "output_type": "execute_result"
    }
   ],
   "source": [
    "look.describe()"
   ]
  }
 ],
 "metadata": {
  "kernelspec": {
   "display_name": "Python 3 (ipykernel)",
   "language": "python",
   "name": "python3"
  },
  "language_info": {
   "codemirror_mode": {
    "name": "ipython",
    "version": 3
   },
   "file_extension": ".py",
   "mimetype": "text/x-python",
   "name": "python",
   "nbconvert_exporter": "python",
   "pygments_lexer": "ipython3",
   "version": "3.11.0"
  }
 },
 "nbformat": 4,
 "nbformat_minor": 5
}
